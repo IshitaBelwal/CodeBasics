{
 "cells": [
  {
   "cell_type": "code",
   "execution_count": 8,
   "id": "8e52cbf4",
   "metadata": {},
   "outputs": [
    {
     "name": "stdout",
     "output_type": "stream",
     "text": [
      "In Feb, how many dollars you spent extra compare to January = 150\n",
      "Expense for first quarter: 7150\n",
      "Did I spent 2000$ in any month?  False\n",
      "Expenses at the end of June: [2200, 2350, 2600, 2130, 2190, 1980]\n",
      "Expenses after 200$ return in April: [2200, 2350, 2600, 1930, 2190, 1980]\n"
     ]
    }
   ],
   "source": [
    "expense = [2200,2350,2600,2130,2190]\n",
    "print(\"In Feb, how many dollars you spent extra compare to January =\", expense[1]-expense[0] )\n",
    "print(\"Expense for first quarter:\",expense[0]+expense[1]+expense[2])\n",
    "print(\"Did I spent 2000$ in any month? \", 2000 in expense)\n",
    "expense.append(1980)\n",
    "print(\"Expenses at the end of June:\",expense) \n",
    "expense[3] = expense[3] - 200\n",
    "print(\"Expenses after 200$ return in April:\",expense)"
   ]
  },
  {
   "cell_type": "code",
   "execution_count": 20,
   "id": "6e69a060",
   "metadata": {},
   "outputs": [
    {
     "name": "stdout",
     "output_type": "stream",
     "text": [
      "5\n",
      "6\n",
      "['spider man', 'thor', 'hulk', 'iron man', 'captain america', 'Black Panther']\n",
      "['spider man', 'thor', 'hulk', 'Black Panther', 'iron man', 'captain america']\n",
      "['spider man', 'doctor strange', 'Black Panther', 'iron man', 'captain america']\n",
      "['Black Panther', 'captain america', 'doctor strange', 'iron man', 'spider man']\n"
     ]
    }
   ],
   "source": [
    "heros=['spider man','thor','hulk','iron man','captain america']\n",
    "print(len(heros))\n",
    "heros.append(\"Black Panther\")\n",
    "print(len(heros))\n",
    "print(heros)\n",
    "heros.remove(\"Black Panther\")\n",
    "heros.insert(3,\"Black Panther\")\n",
    "print(heros)\n",
    "heros[1:3]=['doctor strange']\n",
    "print(heros)\n",
    "heros.sort()\n",
    "print(heros)"
   ]
  },
  {
   "cell_type": "code",
   "execution_count": null,
   "id": "bff68b8d",
   "metadata": {},
   "outputs": [],
   "source": []
  }
 ],
 "metadata": {
  "kernelspec": {
   "display_name": "Python 3 (ipykernel)",
   "language": "python",
   "name": "python3"
  },
  "language_info": {
   "codemirror_mode": {
    "name": "ipython",
    "version": 3
   },
   "file_extension": ".py",
   "mimetype": "text/x-python",
   "name": "python",
   "nbconvert_exporter": "python",
   "pygments_lexer": "ipython3",
   "version": "3.9.7"
  }
 },
 "nbformat": 4,
 "nbformat_minor": 5
}
