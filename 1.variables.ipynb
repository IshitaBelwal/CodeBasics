{
 "cells": [
  {
   "cell_type": "code",
   "execution_count": 4,
   "id": "5e41eaf6",
   "metadata": {},
   "outputs": [],
   "source": [
    "x = 5"
   ]
  },
  {
   "cell_type": "code",
   "execution_count": 5,
   "id": "812ce083",
   "metadata": {},
   "outputs": [
    {
     "ename": "SyntaxError",
     "evalue": "cannot assign to literal (168048968.py, line 1)",
     "output_type": "error",
     "traceback": [
      "\u001b[0;36m  File \u001b[0;32m\"/tmp/ipykernel_23729/168048968.py\"\u001b[0;36m, line \u001b[0;32m1\u001b[0m\n\u001b[0;31m    'break'=5\u001b[0m\n\u001b[0m    ^\u001b[0m\n\u001b[0;31mSyntaxError\u001b[0m\u001b[0;31m:\u001b[0m cannot assign to literal\n"
     ]
    }
   ],
   "source": [
    "'break'=5\n",
    "# break is a python keyword. \n",
    "#keywords cannt be used as variable\n",
    "#76trombones is illegal because it does not begin with a letter. \n",
    "#more$ is illegal because it contains an illegal character, the dollar sign. "
   ]
  },
  {
   "cell_type": "code",
   "execution_count": 6,
   "id": "9eb68705",
   "metadata": {},
   "outputs": [
    {
     "name": "stdout",
     "output_type": "stream",
     "text": [
      "23\n"
     ]
    }
   ],
   "source": [
    "birth_year = 2000\n",
    "current_year = 2023\n",
    "age = current_year - birth_year\n",
    "print(age)"
   ]
  },
  {
   "cell_type": "code",
   "execution_count": 8,
   "id": "06c14235",
   "metadata": {},
   "outputs": [
    {
     "name": "stdout",
     "output_type": "stream",
     "text": [
      "Ishita Prakash Belwal\n"
     ]
    }
   ],
   "source": [
    "a = \"Ishita\"\n",
    "b = \" Prakash\"\n",
    "c = \" Belwal\"\n",
    "print (a+b+c)"
   ]
  },
  {
   "cell_type": "code",
   "execution_count": 9,
   "id": "22cbbb56",
   "metadata": {},
   "outputs": [],
   "source": [
    "# _nation   1record   record1   record_one   record-one   record^one   continue\n",
    "# _nation\n",
    "# 1record \n",
    "# record-one\n",
    "# record^one \n",
    "# continue"
   ]
  },
  {
   "cell_type": "code",
   "execution_count": null,
   "id": "cd3e2f29",
   "metadata": {},
   "outputs": [],
   "source": []
  }
 ],
 "metadata": {
  "kernelspec": {
   "display_name": "Python 3 (ipykernel)",
   "language": "python",
   "name": "python3"
  },
  "language_info": {
   "codemirror_mode": {
    "name": "ipython",
    "version": 3
   },
   "file_extension": ".py",
   "mimetype": "text/x-python",
   "name": "python",
   "nbconvert_exporter": "python",
   "pygments_lexer": "ipython3",
   "version": "3.9.7"
  }
 },
 "nbformat": 4,
 "nbformat_minor": 5
}
