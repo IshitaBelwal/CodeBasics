{
 "cells": [
  {
   "cell_type": "code",
   "execution_count": 2,
   "id": "49f64397",
   "metadata": {},
   "outputs": [
    {
     "name": "stdout",
     "output_type": "stream",
     "text": [
      "avas vikas haldwani India\n",
      "avas vikas haldwani India\n"
     ]
    }
   ],
   "source": [
    "street = \"avas vikas\"\n",
    "city = \" haldwani\"\n",
    "country = \" India\"\n",
    "print(street + city + country)\n",
    "print(f'{street}{city}{country}')"
   ]
  },
  {
   "cell_type": "code",
   "execution_count": 5,
   "id": "7263260c",
   "metadata": {},
   "outputs": [
    {
     "name": "stdout",
     "output_type": "stream",
     "text": [
      "revolves\n",
      "sun\n"
     ]
    }
   ],
   "source": [
    "s = \"Earth revolves around the sun\"\n",
    "print(s[6:14])\n",
    "print(s[-3:])\n",
    "\n"
   ]
  },
  {
   "cell_type": "code",
   "execution_count": 11,
   "id": "9a8e5ffe",
   "metadata": {},
   "outputs": [
    {
     "name": "stdout",
     "output_type": "stream",
     "text": [
      "I eat 10 veggies and 15 fruits daily \n"
     ]
    }
   ],
   "source": [
    "fruits = 10\n",
    "vege = 15\n",
    "print(f\"I eat {fruits} veggies and {vege} fruits daily \")"
   ]
  },
  {
   "cell_type": "code",
   "execution_count": 12,
   "id": "1397639d",
   "metadata": {},
   "outputs": [
    {
     "name": "stdout",
     "output_type": "stream",
     "text": [
      "maine 10 samosa khaye\n"
     ]
    }
   ],
   "source": [
    "s='maine 200 banana khaye'\n",
    "s=s.replace('banana','samosa').replace('200','10')\n",
    "print(s)"
   ]
  },
  {
   "cell_type": "code",
   "execution_count": null,
   "id": "bb8c9a2f",
   "metadata": {},
   "outputs": [],
   "source": []
  }
 ],
 "metadata": {
  "kernelspec": {
   "display_name": "Python 3 (ipykernel)",
   "language": "python",
   "name": "python3"
  },
  "language_info": {
   "codemirror_mode": {
    "name": "ipython",
    "version": 3
   },
   "file_extension": ".py",
   "mimetype": "text/x-python",
   "name": "python",
   "nbconvert_exporter": "python",
   "pygments_lexer": "ipython3",
   "version": "3.9.7"
  }
 },
 "nbformat": 4,
 "nbformat_minor": 5
}
