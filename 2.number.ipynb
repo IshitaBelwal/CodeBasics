{
 "cells": [
  {
   "cell_type": "code",
   "execution_count": 1,
   "id": "dbb93732",
   "metadata": {},
   "outputs": [
    {
     "name": "stdout",
     "output_type": "stream",
     "text": [
      "4489.599999999999\n"
     ]
    }
   ],
   "source": [
    "l = 92\n",
    "b = 48.8\n",
    "area = l*b\n",
    "print(area)"
   ]
  },
  {
   "cell_type": "code",
   "execution_count": 2,
   "id": "41f9651f",
   "metadata": {},
   "outputs": [
    {
     "name": "stdout",
     "output_type": "stream",
     "text": [
      "6.59\n"
     ]
    }
   ],
   "source": [
    "packets = 9\n",
    "cost = 1.49\n",
    "total_cost = cost*packets\n",
    "money = 20\n",
    "money_left = money - total_cost\n",
    "print(money_left)"
   ]
  },
  {
   "cell_type": "code",
   "execution_count": 2,
   "id": "54b29364",
   "metadata": {},
   "outputs": [
    {
     "name": "stdout",
     "output_type": "stream",
     "text": [
      "15125.0\n"
     ]
    }
   ],
   "source": [
    "a= 5.5\n",
    "area = a**2\n",
    "cost = 500\n",
    "total_cost = cost * area\n",
    "print(total_cost)"
   ]
  },
  {
   "cell_type": "code",
   "execution_count": 5,
   "id": "fe700747",
   "metadata": {},
   "outputs": [
    {
     "name": "stdout",
     "output_type": "stream",
     "text": [
      "binary of 17 is: 10001\n"
     ]
    }
   ],
   "source": [
    "num = 17\n",
    "print(\"binary of 17 is:\",format(num,'b'))"
   ]
  },
  {
   "cell_type": "code",
   "execution_count": null,
   "id": "874fcf3d",
   "metadata": {},
   "outputs": [],
   "source": []
  }
 ],
 "metadata": {
  "kernelspec": {
   "display_name": "Python 3 (ipykernel)",
   "language": "python",
   "name": "python3"
  },
  "language_info": {
   "codemirror_mode": {
    "name": "ipython",
    "version": 3
   },
   "file_extension": ".py",
   "mimetype": "text/x-python",
   "name": "python",
   "nbconvert_exporter": "python",
   "pygments_lexer": "ipython3",
   "version": "3.9.7"
  }
 },
 "nbformat": 4,
 "nbformat_minor": 5
}
